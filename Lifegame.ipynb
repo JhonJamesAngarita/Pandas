{
 "cells": [
  {
   "cell_type": "markdown",
   "metadata": {},
   "source": [
    "# Reglas del Juego\n",
    "\n",
    "1. Muere cualquier persona con menos de dos vecinos, debido a la necesidades a la falta de población\n",
    "2. Muere cualquier persona con mas de tres vecinos, debido a sobrepoblación\n",
    "3. Cualquier persona  con dos o tres vecinos vive, para la próxima generación\n",
    "4. Cualquier persona muerta vive con exactamente tres vecinos "
   ]
  },
  {
   "cell_type": "code",
   "execution_count": 31,
   "metadata": {
    "scrolled": true
   },
   "outputs": [],
   "source": [
    "import numpy as np\n",
    "import matplotlib.pyplot as plt\n",
    "import scipy.signal as scipy\n",
    "import matplotlib.animation as animation\n",
    "import imageio\n",
    "%matplotlib notebook\n",
    "%matplotlib inline"
   ]
  },
  {
   "cell_type": "code",
   "execution_count": 32,
   "metadata": {},
   "outputs": [
    {
     "data": {
      "image/png": "[encoded data removed]",
      "text/plain": [
       "<matplotlib.figure.Figure at 0xa7c048ac>"
      ]
     },
     "metadata": {},
     "output_type": "display_data"
    }
   ],
   "source": [
    "n1=64    # dimensiones de la poblacion n1 x n2\n",
    "n2=64\n",
    "k=0.5    # porcentaje de poblacion inicial\n",
    "\n",
    "cycle=10  # numero de ciclos para el juego\n",
    "A = (np.random.rand(n1,n2)<=k)*1 \n",
    "plt.imshow(A)\n",
    "plt.show()\n",
    "\n"
   ]
  },
  {
   "cell_type": "code",
   "execution_count": 33,
   "metadata": {},
   "outputs": [
    {
     "name": "stderr",
     "output_type": "stream",
     "text": [
      "/home/jhonjames/anaconda3/lib/python3.6/site-packages/imageio/core/util.py:104: UserWarning: Conversion from int32 to uint8, range [0, 1]\n",
      "  'range [{2}, {3}]'.format(dtype_str, out_type.__name__, mi, ma))\n"
     ]
    }
   ],
   "source": [
    "kernel=np.matrix('1 1 1; 1 0 1; 1 1 1')  # kernel para aplicar las reglas del juego\n",
    "Pob=A.copy()\n",
    "images = []\n",
    "for i in range(cycle):        \n",
    "    conv=scipy.convolve2d(Pob,kernel,mode='same')\n",
    "    p=conv.copy()\n",
    "    p[(p ==2) | (p==3) ]=1\n",
    "    p[p != 1]=0\n",
    "    Pob=p\n",
    "    images.append(Pob)\n",
    "    #plt.imshow(Pob)\n",
    "    #plt.show()\n",
    "imageio.mimsave('movie.gif', images,duration = 0.5)  # Generar el gif con duracion de 0.5 se\n"
   ]
  },
  {
   "cell_type": "code",
   "execution_count": null,
   "metadata": {},
   "outputs": [],
   "source": []
  }
 ],
 "metadata": {
  "kernelspec": {
   "display_name": "Python 3",
   "language": "python",
   "name": "python3"
  },
  "language_info": {
   "codemirror_mode": {
    "name": "ipython",
    "version": 3
   },
   "file_extension": ".py",
   "mimetype": "text/x-python",
   "name": "python",
   "nbconvert_exporter": "python",
   "pygments_lexer": "ipython3",
   "version": "3.6.4"
  }
 },
 "nbformat": 4,
 "nbformat_minor": 2
}
