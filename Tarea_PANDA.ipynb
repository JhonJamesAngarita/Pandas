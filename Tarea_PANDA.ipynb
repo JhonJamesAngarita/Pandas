{
 "cells": [
  {
   "cell_type": "code",
   "execution_count": 52,
   "metadata": {},
   "outputs": [],
   "source": [
    "import pandas as pd\n",
    "import numpy as np\n",
    "import matplotlib.pyplot as plt"
   ]
  },
  {
   "cell_type": "code",
   "execution_count": 53,
   "metadata": {},
   "outputs": [],
   "source": [
    "ol = pd.read_csv('olympics.csv', index_col = 0, skiprows=1)\n",
    "pobl = pd.read_csv('poblacion.csv', index_col = 0, skiprows=4) # deben empezar en la fila 5 \n",
    "PIB = pd.read_csv('PIB.csv', index_col = 0, skiprows=4)\n"
   ]
  },
  {
   "cell_type": "markdown",
   "metadata": {},
   "source": [
    "## Dataframe olympics (ol) "
   ]
  },
  {
   "cell_type": "code",
   "execution_count": 54,
   "metadata": {},
   "outputs": [
    {
     "data": {
      "text/html": [
       "<div>\n",
       "<style scoped>\n",
       "    .dataframe tbody tr th:only-of-type {\n",
       "        vertical-align: middle;\n",
       "    }\n",
       "\n",
       "    .dataframe tbody tr th {\n",
       "        vertical-align: top;\n",
       "    }\n",
       "\n",
       "    .dataframe thead th {\n",
       "        text-align: right;\n",
       "    }\n",
       "</style>\n",
       "<table border=\"1\" class=\"dataframe\">\n",
       "  <thead>\n",
       "    <tr style=\"text-align: right;\">\n",
       "      <th></th>\n",
       "      <th>№ Summer</th>\n",
       "      <th>01 !</th>\n",
       "      <th>02 !</th>\n",
       "      <th>03 !</th>\n",
       "      <th>Total</th>\n",
       "      <th>№ Winter</th>\n",
       "      <th>01 !.1</th>\n",
       "      <th>02 !.1</th>\n",
       "      <th>03 !.1</th>\n",
       "      <th>Total.1</th>\n",
       "      <th>№ Games</th>\n",
       "      <th>01 !.2</th>\n",
       "      <th>02 !.2</th>\n",
       "      <th>03 !.2</th>\n",
       "      <th>Combined total</th>\n",
       "    </tr>\n",
       "  </thead>\n",
       "  <tbody>\n",
       "    <tr>\n",
       "      <th>Afghanistan (AFG)</th>\n",
       "      <td>13</td>\n",
       "      <td>0</td>\n",
       "      <td>0</td>\n",
       "      <td>2</td>\n",
       "      <td>2</td>\n",
       "      <td>0</td>\n",
       "      <td>0</td>\n",
       "      <td>0</td>\n",
       "      <td>0</td>\n",
       "      <td>0</td>\n",
       "      <td>13</td>\n",
       "      <td>0</td>\n",
       "      <td>0</td>\n",
       "      <td>2</td>\n",
       "      <td>2</td>\n",
       "    </tr>\n",
       "    <tr>\n",
       "      <th>Algeria (ALG)</th>\n",
       "      <td>12</td>\n",
       "      <td>5</td>\n",
       "      <td>2</td>\n",
       "      <td>8</td>\n",
       "      <td>15</td>\n",
       "      <td>3</td>\n",
       "      <td>0</td>\n",
       "      <td>0</td>\n",
       "      <td>0</td>\n",
       "      <td>0</td>\n",
       "      <td>15</td>\n",
       "      <td>5</td>\n",
       "      <td>2</td>\n",
       "      <td>8</td>\n",
       "      <td>15</td>\n",
       "    </tr>\n",
       "    <tr>\n",
       "      <th>Argentina (ARG)</th>\n",
       "      <td>23</td>\n",
       "      <td>18</td>\n",
       "      <td>24</td>\n",
       "      <td>28</td>\n",
       "      <td>70</td>\n",
       "      <td>18</td>\n",
       "      <td>0</td>\n",
       "      <td>0</td>\n",
       "      <td>0</td>\n",
       "      <td>0</td>\n",
       "      <td>41</td>\n",
       "      <td>18</td>\n",
       "      <td>24</td>\n",
       "      <td>28</td>\n",
       "      <td>70</td>\n",
       "    </tr>\n",
       "  </tbody>\n",
       "</table>\n",
       "</div>"
      ],
      "text/plain": [
       "                   № Summer  01 !  02 !  03 !  Total  № Winter  01 !.1  \\\n",
       "Afghanistan (AFG)        13     0     0     2      2         0       0   \n",
       "Algeria (ALG)            12     5     2     8     15         3       0   \n",
       "Argentina (ARG)          23    18    24    28     70        18       0   \n",
       "\n",
       "                   02 !.1  03 !.1  Total.1  № Games  01 !.2  02 !.2  03 !.2  \\\n",
       "Afghanistan (AFG)       0       0        0       13       0       0       2   \n",
       "Algeria (ALG)           0       0        0       15       5       2       8   \n",
       "Argentina (ARG)         0       0        0       41      18      24      28   \n",
       "\n",
       "                   Combined total  \n",
       "Afghanistan (AFG)               2  \n",
       "Algeria (ALG)                  15  \n",
       "Argentina (ARG)                70  "
      ]
     },
     "execution_count": 54,
     "metadata": {},
     "output_type": "execute_result"
    }
   ],
   "source": [
    "ol.head(n=3)"
   ]
  },
  {
   "cell_type": "markdown",
   "metadata": {},
   "source": [
    "## Dataframe población (pobl)"
   ]
  },
  {
   "cell_type": "code",
   "execution_count": 55,
   "metadata": {},
   "outputs": [
    {
     "data": {
      "text/html": [
       "<div>\n",
       "<style scoped>\n",
       "    .dataframe tbody tr th:only-of-type {\n",
       "        vertical-align: middle;\n",
       "    }\n",
       "\n",
       "    .dataframe tbody tr th {\n",
       "        vertical-align: top;\n",
       "    }\n",
       "\n",
       "    .dataframe thead th {\n",
       "        text-align: right;\n",
       "    }\n",
       "</style>\n",
       "<table border=\"1\" class=\"dataframe\">\n",
       "  <thead>\n",
       "    <tr style=\"text-align: right;\">\n",
       "      <th></th>\n",
       "      <th>Country Code</th>\n",
       "      <th>Indicator Name</th>\n",
       "      <th>Indicator Code</th>\n",
       "      <th>1960</th>\n",
       "      <th>1961</th>\n",
       "      <th>1962</th>\n",
       "      <th>1963</th>\n",
       "      <th>1964</th>\n",
       "      <th>1965</th>\n",
       "      <th>1966</th>\n",
       "      <th>...</th>\n",
       "      <th>2009</th>\n",
       "      <th>2010</th>\n",
       "      <th>2011</th>\n",
       "      <th>2012</th>\n",
       "      <th>2013</th>\n",
       "      <th>2014</th>\n",
       "      <th>2015</th>\n",
       "      <th>2016</th>\n",
       "      <th>2017</th>\n",
       "      <th>Unnamed: 62</th>\n",
       "    </tr>\n",
       "    <tr>\n",
       "      <th>Country Name</th>\n",
       "      <th></th>\n",
       "      <th></th>\n",
       "      <th></th>\n",
       "      <th></th>\n",
       "      <th></th>\n",
       "      <th></th>\n",
       "      <th></th>\n",
       "      <th></th>\n",
       "      <th></th>\n",
       "      <th></th>\n",
       "      <th></th>\n",
       "      <th></th>\n",
       "      <th></th>\n",
       "      <th></th>\n",
       "      <th></th>\n",
       "      <th></th>\n",
       "      <th></th>\n",
       "      <th></th>\n",
       "      <th></th>\n",
       "      <th></th>\n",
       "      <th></th>\n",
       "    </tr>\n",
       "  </thead>\n",
       "  <tbody>\n",
       "    <tr>\n",
       "      <th>Aruba</th>\n",
       "      <td>ABW</td>\n",
       "      <td>Population, total</td>\n",
       "      <td>SP.POP.TOTL</td>\n",
       "      <td>54211.0</td>\n",
       "      <td>55438.0</td>\n",
       "      <td>56225.0</td>\n",
       "      <td>56695.0</td>\n",
       "      <td>57032.0</td>\n",
       "      <td>57360.0</td>\n",
       "      <td>57715.0</td>\n",
       "      <td>...</td>\n",
       "      <td>101453.0</td>\n",
       "      <td>101669.0</td>\n",
       "      <td>102053.0</td>\n",
       "      <td>102577.0</td>\n",
       "      <td>103187.0</td>\n",
       "      <td>103795.0</td>\n",
       "      <td>104341.0</td>\n",
       "      <td>104822.0</td>\n",
       "      <td>NaN</td>\n",
       "      <td>NaN</td>\n",
       "    </tr>\n",
       "    <tr>\n",
       "      <th>Afghanistan</th>\n",
       "      <td>AFG</td>\n",
       "      <td>Population, total</td>\n",
       "      <td>SP.POP.TOTL</td>\n",
       "      <td>8996351.0</td>\n",
       "      <td>9166764.0</td>\n",
       "      <td>9345868.0</td>\n",
       "      <td>9533954.0</td>\n",
       "      <td>9731361.0</td>\n",
       "      <td>9938414.0</td>\n",
       "      <td>10152331.0</td>\n",
       "      <td>...</td>\n",
       "      <td>28004331.0</td>\n",
       "      <td>28803167.0</td>\n",
       "      <td>29708599.0</td>\n",
       "      <td>30696958.0</td>\n",
       "      <td>31731688.0</td>\n",
       "      <td>32758020.0</td>\n",
       "      <td>33736494.0</td>\n",
       "      <td>34656032.0</td>\n",
       "      <td>NaN</td>\n",
       "      <td>NaN</td>\n",
       "    </tr>\n",
       "  </tbody>\n",
       "</table>\n",
       "<p>2 rows × 62 columns</p>\n",
       "</div>"
      ],
      "text/plain": [
       "             Country Code     Indicator Name Indicator Code       1960  \\\n",
       "Country Name                                                             \n",
       "Aruba                 ABW  Population, total    SP.POP.TOTL    54211.0   \n",
       "Afghanistan           AFG  Population, total    SP.POP.TOTL  8996351.0   \n",
       "\n",
       "                   1961       1962       1963       1964       1965  \\\n",
       "Country Name                                                          \n",
       "Aruba           55438.0    56225.0    56695.0    57032.0    57360.0   \n",
       "Afghanistan   9166764.0  9345868.0  9533954.0  9731361.0  9938414.0   \n",
       "\n",
       "                    1966     ...             2009        2010        2011  \\\n",
       "Country Name                 ...                                            \n",
       "Aruba            57715.0     ...         101453.0    101669.0    102053.0   \n",
       "Afghanistan   10152331.0     ...       28004331.0  28803167.0  29708599.0   \n",
       "\n",
       "                    2012        2013        2014        2015        2016  \\\n",
       "Country Name                                                               \n",
       "Aruba           102577.0    103187.0    103795.0    104341.0    104822.0   \n",
       "Afghanistan   30696958.0  31731688.0  32758020.0  33736494.0  34656032.0   \n",
       "\n",
       "              2017  Unnamed: 62  \n",
       "Country Name                     \n",
       "Aruba          NaN          NaN  \n",
       "Afghanistan    NaN          NaN  \n",
       "\n",
       "[2 rows x 62 columns]"
      ]
     },
     "execution_count": 55,
     "metadata": {},
     "output_type": "execute_result"
    }
   ],
   "source": [
    "pobl.head(n=2)\n"
   ]
  },
  {
   "cell_type": "markdown",
   "metadata": {},
   "source": [
    "## Dataframe PIB "
   ]
  },
  {
   "cell_type": "code",
   "execution_count": 81,
   "metadata": {},
   "outputs": [
    {
     "data": {
      "text/html": [
       "<div>\n",
       "<style scoped>\n",
       "    .dataframe tbody tr th:only-of-type {\n",
       "        vertical-align: middle;\n",
       "    }\n",
       "\n",
       "    .dataframe tbody tr th {\n",
       "        vertical-align: top;\n",
       "    }\n",
       "\n",
       "    .dataframe thead th {\n",
       "        text-align: right;\n",
       "    }\n",
       "</style>\n",
       "<table border=\"1\" class=\"dataframe\">\n",
       "  <thead>\n",
       "    <tr style=\"text-align: right;\">\n",
       "      <th></th>\n",
       "      <th>1960</th>\n",
       "      <th>1961</th>\n",
       "      <th>1962</th>\n",
       "      <th>1963</th>\n",
       "      <th>1964</th>\n",
       "      <th>1965</th>\n",
       "      <th>1966</th>\n",
       "      <th>1967</th>\n",
       "      <th>1968</th>\n",
       "      <th>1969</th>\n",
       "      <th>...</th>\n",
       "      <th>2008</th>\n",
       "      <th>2009</th>\n",
       "      <th>2010</th>\n",
       "      <th>2011</th>\n",
       "      <th>2012</th>\n",
       "      <th>2013</th>\n",
       "      <th>2014</th>\n",
       "      <th>2015</th>\n",
       "      <th>2016</th>\n",
       "      <th>2017</th>\n",
       "    </tr>\n",
       "    <tr>\n",
       "      <th>Country Name</th>\n",
       "      <th></th>\n",
       "      <th></th>\n",
       "      <th></th>\n",
       "      <th></th>\n",
       "      <th></th>\n",
       "      <th></th>\n",
       "      <th></th>\n",
       "      <th></th>\n",
       "      <th></th>\n",
       "      <th></th>\n",
       "      <th></th>\n",
       "      <th></th>\n",
       "      <th></th>\n",
       "      <th></th>\n",
       "      <th></th>\n",
       "      <th></th>\n",
       "      <th></th>\n",
       "      <th></th>\n",
       "      <th></th>\n",
       "      <th></th>\n",
       "      <th></th>\n",
       "    </tr>\n",
       "  </thead>\n",
       "  <tbody>\n",
       "    <tr>\n",
       "      <th>Aruba</th>\n",
       "      <td>NaN</td>\n",
       "      <td>NaN</td>\n",
       "      <td>NaN</td>\n",
       "      <td>NaN</td>\n",
       "      <td>NaN</td>\n",
       "      <td>NaN</td>\n",
       "      <td>NaN</td>\n",
       "      <td>NaN</td>\n",
       "      <td>NaN</td>\n",
       "      <td>NaN</td>\n",
       "      <td>...</td>\n",
       "      <td>2.791961e+09</td>\n",
       "      <td>2.498933e+09</td>\n",
       "      <td>2.467704e+09</td>\n",
       "      <td>2.584464e+09</td>\n",
       "      <td>NaN</td>\n",
       "      <td>NaN</td>\n",
       "      <td>NaN</td>\n",
       "      <td>NaN</td>\n",
       "      <td>NaN</td>\n",
       "      <td>NaN</td>\n",
       "    </tr>\n",
       "    <tr>\n",
       "      <th>Afghanistan</th>\n",
       "      <td>5.377778e+08</td>\n",
       "      <td>5.488889e+08</td>\n",
       "      <td>5.466667e+08</td>\n",
       "      <td>7.511112e+08</td>\n",
       "      <td>8.000000e+08</td>\n",
       "      <td>1.006667e+09</td>\n",
       "      <td>1.400000e+09</td>\n",
       "      <td>1.673333e+09</td>\n",
       "      <td>1.373333e+09</td>\n",
       "      <td>1.408889e+09</td>\n",
       "      <td>...</td>\n",
       "      <td>1.019053e+10</td>\n",
       "      <td>1.248694e+10</td>\n",
       "      <td>1.593680e+10</td>\n",
       "      <td>1.793024e+10</td>\n",
       "      <td>2.053654e+10</td>\n",
       "      <td>2.026425e+10</td>\n",
       "      <td>2.061610e+10</td>\n",
       "      <td>1.921556e+10</td>\n",
       "      <td>1.946902e+10</td>\n",
       "      <td>NaN</td>\n",
       "    </tr>\n",
       "  </tbody>\n",
       "</table>\n",
       "<p>2 rows × 58 columns</p>\n",
       "</div>"
      ],
      "text/plain": [
       "                      1960          1961          1962          1963  \\\n",
       "Country Name                                                           \n",
       "Aruba                  NaN           NaN           NaN           NaN   \n",
       "Afghanistan   5.377778e+08  5.488889e+08  5.466667e+08  7.511112e+08   \n",
       "\n",
       "                      1964          1965          1966          1967  \\\n",
       "Country Name                                                           \n",
       "Aruba                  NaN           NaN           NaN           NaN   \n",
       "Afghanistan   8.000000e+08  1.006667e+09  1.400000e+09  1.673333e+09   \n",
       "\n",
       "                      1968          1969  ...           2008          2009  \\\n",
       "Country Name                              ...                                \n",
       "Aruba                  NaN           NaN  ...   2.791961e+09  2.498933e+09   \n",
       "Afghanistan   1.373333e+09  1.408889e+09  ...   1.019053e+10  1.248694e+10   \n",
       "\n",
       "                      2010          2011          2012          2013  \\\n",
       "Country Name                                                           \n",
       "Aruba         2.467704e+09  2.584464e+09           NaN           NaN   \n",
       "Afghanistan   1.593680e+10  1.793024e+10  2.053654e+10  2.026425e+10   \n",
       "\n",
       "                      2014          2015          2016  2017  \n",
       "Country Name                                                  \n",
       "Aruba                  NaN           NaN           NaN   NaN  \n",
       "Afghanistan   2.061610e+10  1.921556e+10  1.946902e+10   NaN  \n",
       "\n",
       "[2 rows x 58 columns]"
      ]
     },
     "execution_count": 81,
     "metadata": {},
     "output_type": "execute_result"
    }
   ],
   "source": [
    "PIB.head(n=2)\n"
   ]
  },
  {
   "cell_type": "markdown",
   "metadata": {},
   "source": [
    "### Columnas más legibles dataframe olympics"
   ]
  },
  {
   "cell_type": "code",
   "execution_count": 57,
   "metadata": {},
   "outputs": [],
   "source": [
    "for col in ol.columns:\n",
    "    if col[:2]=='01':\n",
    "        ol.rename(columns={col:'Gold' + col[4:]}, inplace=True)\n",
    "    if col[:2]=='02':\n",
    "        ol.rename(columns={col:'Silver' + col[4:]}, inplace=True)\n",
    "    if col[:2]=='03':\n",
    "        ol.rename(columns={col:'Bronze' + col[4:]}, inplace=True)"
   ]
  },
  {
   "cell_type": "code",
   "execution_count": 58,
   "metadata": {},
   "outputs": [
    {
     "data": {
      "text/html": [
       "<div>\n",
       "<style scoped>\n",
       "    .dataframe tbody tr th:only-of-type {\n",
       "        vertical-align: middle;\n",
       "    }\n",
       "\n",
       "    .dataframe tbody tr th {\n",
       "        vertical-align: top;\n",
       "    }\n",
       "\n",
       "    .dataframe thead th {\n",
       "        text-align: right;\n",
       "    }\n",
       "</style>\n",
       "<table border=\"1\" class=\"dataframe\">\n",
       "  <thead>\n",
       "    <tr style=\"text-align: right;\">\n",
       "      <th></th>\n",
       "      <th>№ Summer</th>\n",
       "      <th>Gold</th>\n",
       "      <th>Silver</th>\n",
       "      <th>Bronze</th>\n",
       "      <th>Total</th>\n",
       "      <th>№ Winter</th>\n",
       "      <th>Gold.1</th>\n",
       "      <th>Silver.1</th>\n",
       "      <th>Bronze.1</th>\n",
       "      <th>Total.1</th>\n",
       "      <th>№ Games</th>\n",
       "      <th>Gold.2</th>\n",
       "      <th>Silver.2</th>\n",
       "      <th>Bronze.2</th>\n",
       "      <th>Combined total</th>\n",
       "    </tr>\n",
       "  </thead>\n",
       "  <tbody>\n",
       "    <tr>\n",
       "      <th>Afghanistan (AFG)</th>\n",
       "      <td>13</td>\n",
       "      <td>0</td>\n",
       "      <td>0</td>\n",
       "      <td>2</td>\n",
       "      <td>2</td>\n",
       "      <td>0</td>\n",
       "      <td>0</td>\n",
       "      <td>0</td>\n",
       "      <td>0</td>\n",
       "      <td>0</td>\n",
       "      <td>13</td>\n",
       "      <td>0</td>\n",
       "      <td>0</td>\n",
       "      <td>2</td>\n",
       "      <td>2</td>\n",
       "    </tr>\n",
       "    <tr>\n",
       "      <th>Algeria (ALG)</th>\n",
       "      <td>12</td>\n",
       "      <td>5</td>\n",
       "      <td>2</td>\n",
       "      <td>8</td>\n",
       "      <td>15</td>\n",
       "      <td>3</td>\n",
       "      <td>0</td>\n",
       "      <td>0</td>\n",
       "      <td>0</td>\n",
       "      <td>0</td>\n",
       "      <td>15</td>\n",
       "      <td>5</td>\n",
       "      <td>2</td>\n",
       "      <td>8</td>\n",
       "      <td>15</td>\n",
       "    </tr>\n",
       "  </tbody>\n",
       "</table>\n",
       "</div>"
      ],
      "text/plain": [
       "                   № Summer  Gold  Silver  Bronze  Total  № Winter  Gold.1  \\\n",
       "Afghanistan (AFG)        13     0       0       2      2         0       0   \n",
       "Algeria (ALG)            12     5       2       8     15         3       0   \n",
       "\n",
       "                   Silver.1  Bronze.1  Total.1  № Games  Gold.2  Silver.2  \\\n",
       "Afghanistan (AFG)         0         0        0       13       0         0   \n",
       "Algeria (ALG)             0         0        0       15       5         2   \n",
       "\n",
       "                   Bronze.2  Combined total  \n",
       "Afghanistan (AFG)         2               2  \n",
       "Algeria (ALG)             8              15  "
      ]
     },
     "execution_count": 58,
     "metadata": {},
     "output_type": "execute_result"
    }
   ],
   "source": [
    "ol.head(n=2)"
   ]
  },
  {
   "cell_type": "markdown",
   "metadata": {},
   "source": [
    "### Eliminado el country code de los indices del dataset olympics para poder mas adelante hacer un merge con los dataframe PIB y poblacion "
   ]
  },
  {
   "cell_type": "code",
   "execution_count": 59,
   "metadata": {},
   "outputs": [],
   "source": [
    "x=0            # necesario para poder hacer un merge que los indices del dataframe sean identicos\n",
    "for fil in ol.index:\n",
    "    if '(' in fil:\n",
    "        f=ol.index[x]\n",
    "        ol.rename(index={fil: f[:f.find(\"(\")-1]}, inplace=True)\n",
    "    x+=1      "
   ]
  },
  {
   "cell_type": "code",
   "execution_count": 60,
   "metadata": {},
   "outputs": [
    {
     "data": {
      "text/html": [
       "<div>\n",
       "<style scoped>\n",
       "    .dataframe tbody tr th:only-of-type {\n",
       "        vertical-align: middle;\n",
       "    }\n",
       "\n",
       "    .dataframe tbody tr th {\n",
       "        vertical-align: top;\n",
       "    }\n",
       "\n",
       "    .dataframe thead th {\n",
       "        text-align: right;\n",
       "    }\n",
       "</style>\n",
       "<table border=\"1\" class=\"dataframe\">\n",
       "  <thead>\n",
       "    <tr style=\"text-align: right;\">\n",
       "      <th></th>\n",
       "      <th>№ Summer</th>\n",
       "      <th>Gold</th>\n",
       "      <th>Silver</th>\n",
       "      <th>Bronze</th>\n",
       "      <th>Total</th>\n",
       "      <th>№ Winter</th>\n",
       "      <th>Gold.1</th>\n",
       "      <th>Silver.1</th>\n",
       "      <th>Bronze.1</th>\n",
       "      <th>Total.1</th>\n",
       "      <th>№ Games</th>\n",
       "      <th>Gold.2</th>\n",
       "      <th>Silver.2</th>\n",
       "      <th>Bronze.2</th>\n",
       "      <th>Combined total</th>\n",
       "    </tr>\n",
       "  </thead>\n",
       "  <tbody>\n",
       "    <tr>\n",
       "      <th>Afghanistan</th>\n",
       "      <td>13</td>\n",
       "      <td>0</td>\n",
       "      <td>0</td>\n",
       "      <td>2</td>\n",
       "      <td>2</td>\n",
       "      <td>0</td>\n",
       "      <td>0</td>\n",
       "      <td>0</td>\n",
       "      <td>0</td>\n",
       "      <td>0</td>\n",
       "      <td>13</td>\n",
       "      <td>0</td>\n",
       "      <td>0</td>\n",
       "      <td>2</td>\n",
       "      <td>2</td>\n",
       "    </tr>\n",
       "    <tr>\n",
       "      <th>Algeria</th>\n",
       "      <td>12</td>\n",
       "      <td>5</td>\n",
       "      <td>2</td>\n",
       "      <td>8</td>\n",
       "      <td>15</td>\n",
       "      <td>3</td>\n",
       "      <td>0</td>\n",
       "      <td>0</td>\n",
       "      <td>0</td>\n",
       "      <td>0</td>\n",
       "      <td>15</td>\n",
       "      <td>5</td>\n",
       "      <td>2</td>\n",
       "      <td>8</td>\n",
       "      <td>15</td>\n",
       "    </tr>\n",
       "  </tbody>\n",
       "</table>\n",
       "</div>"
      ],
      "text/plain": [
       "             № Summer  Gold  Silver  Bronze  Total  № Winter  Gold.1  \\\n",
       "Afghanistan        13     0       0       2      2         0       0   \n",
       "Algeria            12     5       2       8     15         3       0   \n",
       "\n",
       "             Silver.1  Bronze.1  Total.1  № Games  Gold.2  Silver.2  Bronze.2  \\\n",
       "Afghanistan         0         0        0       13       0         0         2   \n",
       "Algeria             0         0        0       15       5         2         8   \n",
       "\n",
       "             Combined total  \n",
       "Afghanistan               2  \n",
       "Algeria                  15  "
      ]
     },
     "execution_count": 60,
     "metadata": {},
     "output_type": "execute_result"
    }
   ],
   "source": [
    "ol.head(n=2)"
   ]
  },
  {
   "cell_type": "markdown",
   "metadata": {},
   "source": [
    "### quitar columnas del dataframe PIB y poblacion que no son necesarios"
   ]
  },
  {
   "cell_type": "code",
   "execution_count": 61,
   "metadata": {},
   "outputs": [],
   "source": [
    "PIB=PIB.drop('Country Code',axis=1)\n",
    "PIB=PIB.drop('Indicator Name',axis=1)\n",
    "PIB=PIB.drop('Indicator Code',axis=1)\n",
    "PIB=PIB.drop('Unnamed: 62',axis=1)\n",
    "pobl=pobl.drop('Country Code',axis=1)\n",
    "pobl=pobl.drop('Indicator Name',axis=1)\n",
    "pobl=pobl.drop('Indicator Code',axis=1)\n",
    "pobl=pobl.drop('Unnamed: 62',axis=1)"
   ]
  },
  {
   "cell_type": "markdown",
   "metadata": {},
   "source": [
    "### Haciendo la media del PIB para cada pais "
   ]
  },
  {
   "cell_type": "code",
   "execution_count": 62,
   "metadata": {},
   "outputs": [],
   "source": [
    "s_PIB=PIB.loc[PIB.index].mean(axis=1)    # axis=1 necesario para que sume horizontalmente\n",
    "s_pobl=pobl.loc[pobl.index].mean(axis=1)\n",
    "s_pobl=pd.DataFrame(s_pobl)              # volviendo dataframe porque por defecto retorna una Series\n",
    "s_PIB=pd.DataFrame(s_PIB)"
   ]
  },
  {
   "cell_type": "code",
   "execution_count": 63,
   "metadata": {},
   "outputs": [
    {
     "data": {
      "text/html": [
       "<div>\n",
       "<style scoped>\n",
       "    .dataframe tbody tr th:only-of-type {\n",
       "        vertical-align: middle;\n",
       "    }\n",
       "\n",
       "    .dataframe tbody tr th {\n",
       "        vertical-align: top;\n",
       "    }\n",
       "\n",
       "    .dataframe thead th {\n",
       "        text-align: right;\n",
       "    }\n",
       "</style>\n",
       "<table border=\"1\" class=\"dataframe\">\n",
       "  <thead>\n",
       "    <tr style=\"text-align: right;\">\n",
       "      <th></th>\n",
       "      <th>Poblacion media</th>\n",
       "    </tr>\n",
       "    <tr>\n",
       "      <th>Country Name</th>\n",
       "      <th></th>\n",
       "    </tr>\n",
       "  </thead>\n",
       "  <tbody>\n",
       "    <tr>\n",
       "      <th>Aruba</th>\n",
       "      <td>7.471237e+04</td>\n",
       "    </tr>\n",
       "    <tr>\n",
       "      <th>Afghanistan</th>\n",
       "      <td>1.704045e+07</td>\n",
       "    </tr>\n",
       "  </tbody>\n",
       "</table>\n",
       "</div>"
      ],
      "text/plain": [
       "              Poblacion media\n",
       "Country Name                 \n",
       "Aruba            7.471237e+04\n",
       "Afghanistan      1.704045e+07"
      ]
     },
     "execution_count": 63,
     "metadata": {},
     "output_type": "execute_result"
    }
   ],
   "source": [
    "s_pobl.rename(columns={0: \"Poblacion media\"}, inplace=True)  # renombrando las columnas\n",
    "s_PIB.rename(columns={0: \"promedio PIB\"}, inplace=True)\n",
    "s_pobl.head(n=2)"
   ]
  },
  {
   "cell_type": "markdown",
   "metadata": {},
   "source": [
    "## Utilizando uno de los sistemas de clasificación; Fibonacci weighted point system (3:2:1)  "
   ]
  },
  {
   "cell_type": "markdown",
   "metadata": {},
   "source": [
    "gold 3 points, silver 2 points, and bronze 1 point. Se asignan pesos a las medallas para luego sumar y dividir sobre el total de medallas"
   ]
  },
  {
   "cell_type": "code",
   "execution_count": 64,
   "metadata": {},
   "outputs": [],
   "source": [
    "summer_med=(ol['Gold']*3+ol['Silver']*2+ol['Bronze'])/ol['Total']           # Juegos de verano\n",
    "winter_med=(ol['Gold.1']*3+ol['Silver.1']*2+ol['Bronze.1'])/ol['Total.1']   # Juegos de invierno\n",
    "total_med=(ol['Gold.2']*3+ol['Silver.2']*2+ol['Bronze.2'])/ol['Combined total']  # Total de invierno + verano\n",
    "summer_med=pd.DataFrame(summer_med)    # volviendo dataframe\n",
    "winter_med=pd.DataFrame(winter_med)\n",
    "total_med=pd.DataFrame(total_med)"
   ]
  },
  {
   "cell_type": "markdown",
   "metadata": {},
   "source": [
    "## Haciendo un merge entre los dataframe de juegos de summer, winter y total con los pesos ya asignados previamente"
   ]
  },
  {
   "cell_type": "code",
   "execution_count": 65,
   "metadata": {},
   "outputs": [
    {
     "data": {
      "text/html": [
       "<div>\n",
       "<style scoped>\n",
       "    .dataframe tbody tr th:only-of-type {\n",
       "        vertical-align: middle;\n",
       "    }\n",
       "\n",
       "    .dataframe tbody tr th {\n",
       "        vertical-align: top;\n",
       "    }\n",
       "\n",
       "    .dataframe thead th {\n",
       "        text-align: right;\n",
       "    }\n",
       "</style>\n",
       "<table border=\"1\" class=\"dataframe\">\n",
       "  <thead>\n",
       "    <tr style=\"text-align: right;\">\n",
       "      <th></th>\n",
       "      <th>mean Summer</th>\n",
       "      <th>mean Winter</th>\n",
       "      <th>total Games</th>\n",
       "    </tr>\n",
       "  </thead>\n",
       "  <tbody>\n",
       "    <tr>\n",
       "      <th>Afghanistan</th>\n",
       "      <td>1.000000</td>\n",
       "      <td>NaN</td>\n",
       "      <td>1.000000</td>\n",
       "    </tr>\n",
       "    <tr>\n",
       "      <th>Algeria</th>\n",
       "      <td>1.800000</td>\n",
       "      <td>NaN</td>\n",
       "      <td>1.800000</td>\n",
       "    </tr>\n",
       "    <tr>\n",
       "      <th>Argentina</th>\n",
       "      <td>1.857143</td>\n",
       "      <td>NaN</td>\n",
       "      <td>1.857143</td>\n",
       "    </tr>\n",
       "  </tbody>\n",
       "</table>\n",
       "</div>"
      ],
      "text/plain": [
       "             mean Summer  mean Winter  total Games\n",
       "Afghanistan     1.000000          NaN     1.000000\n",
       "Algeria         1.800000          NaN     1.800000\n",
       "Argentina       1.857143          NaN     1.857143"
      ]
     },
     "execution_count": 65,
     "metadata": {},
     "output_type": "execute_result"
    }
   ],
   "source": [
    "ol_general=pd.merge(summer_med,winter_med,how='outer',left_index=True,right_index=True)\n",
    "ol_general=pd.merge(ol_general,total_med,how='outer',left_index=True,right_index=True)\n",
    "ol_general.rename(columns={'0_x': \"mean Summer\"}, inplace=True)\n",
    "ol_general.rename(columns={'0_y': \"mean Winter\"}, inplace=True)\n",
    "ol_general.rename(columns={0: \"total Games\"}, inplace=True)\n",
    "ol_general.head(n=3)"
   ]
  },
  {
   "cell_type": "markdown",
   "metadata": {},
   "source": [
    "### Añadiento la cantidad de veces que un ha participado en los juegos de verano e invierno y los totales en participaciones al dataframe del paso anterior "
   ]
  },
  {
   "cell_type": "code",
   "execution_count": 66,
   "metadata": {},
   "outputs": [
    {
     "data": {
      "text/html": [
       "<div>\n",
       "<style scoped>\n",
       "    .dataframe tbody tr th:only-of-type {\n",
       "        vertical-align: middle;\n",
       "    }\n",
       "\n",
       "    .dataframe tbody tr th {\n",
       "        vertical-align: top;\n",
       "    }\n",
       "\n",
       "    .dataframe thead th {\n",
       "        text-align: right;\n",
       "    }\n",
       "</style>\n",
       "<table border=\"1\" class=\"dataframe\">\n",
       "  <thead>\n",
       "    <tr style=\"text-align: right;\">\n",
       "      <th></th>\n",
       "      <th>mean Summer</th>\n",
       "      <th>mean Winter</th>\n",
       "      <th>total Games</th>\n",
       "      <th>№ Summer</th>\n",
       "      <th>№ Winter</th>\n",
       "      <th>№ Games</th>\n",
       "    </tr>\n",
       "  </thead>\n",
       "  <tbody>\n",
       "    <tr>\n",
       "      <th>Afghanistan</th>\n",
       "      <td>1.000000</td>\n",
       "      <td>NaN</td>\n",
       "      <td>1.000000</td>\n",
       "      <td>13</td>\n",
       "      <td>0</td>\n",
       "      <td>13</td>\n",
       "    </tr>\n",
       "    <tr>\n",
       "      <th>Algeria</th>\n",
       "      <td>1.800000</td>\n",
       "      <td>NaN</td>\n",
       "      <td>1.800000</td>\n",
       "      <td>12</td>\n",
       "      <td>3</td>\n",
       "      <td>15</td>\n",
       "    </tr>\n",
       "    <tr>\n",
       "      <th>Argentina</th>\n",
       "      <td>1.857143</td>\n",
       "      <td>NaN</td>\n",
       "      <td>1.857143</td>\n",
       "      <td>23</td>\n",
       "      <td>18</td>\n",
       "      <td>41</td>\n",
       "    </tr>\n",
       "  </tbody>\n",
       "</table>\n",
       "</div>"
      ],
      "text/plain": [
       "             mean Summer  mean Winter  total Games  № Summer  № Winter  \\\n",
       "Afghanistan     1.000000          NaN     1.000000        13         0   \n",
       "Algeria         1.800000          NaN     1.800000        12         3   \n",
       "Argentina       1.857143          NaN     1.857143        23        18   \n",
       "\n",
       "             № Games  \n",
       "Afghanistan       13  \n",
       "Algeria           15  \n",
       "Argentina         41  "
      ]
     },
     "execution_count": 66,
     "metadata": {},
     "output_type": "execute_result"
    }
   ],
   "source": [
    "ol_general=pd.merge(ol_general,pd.DataFrame(ol['№ Summer']),how='outer',left_index=True,right_index=True)\n",
    "ol_general=pd.merge(ol_general,pd.DataFrame(ol['№ Winter']),how='outer',left_index=True,right_index=True)\n",
    "ol_general=pd.merge(ol_general,pd.DataFrame(ol['№ Games']),how='outer',left_index=True,right_index=True)\n",
    "ol_general.head(n=3)"
   ]
  },
  {
   "cell_type": "markdown",
   "metadata": {},
   "source": [
    "#### se desea dividir la media de juegos de verano e invierno sobre el total de veces que se ha participado. Como en los juegos de invierno algunos paises no participaron se debe poner la restriccion del cero al momento de dividir "
   ]
  },
  {
   "cell_type": "code",
   "execution_count": 67,
   "metadata": {},
   "outputs": [],
   "source": [
    "dc=ol_general[ol_general['№ Winter']!=0]    # elementos diferentes de cero para winter\n",
    "mean_summer=dc['mean Summer']/dc['№ Summer']\n",
    "mean_winter=dc['mean Winter']/dc['№ Winter']\n",
    "mean_total=dc['total Games']/dc['№ Games']\n"
   ]
  },
  {
   "cell_type": "markdown",
   "metadata": {},
   "source": [
    "# Dataframe final: este dataframe contiene nuestro dataset final, el cual tiene en cuenta la poblacion, el PIB y los juegos de verano e invierno. Todo con el fin de reponder a la pregunta, ¿Cuál ha sido el país más ganador en los olímpicos? "
   ]
  },
  {
   "cell_type": "markdown",
   "metadata": {},
   "source": [
    "Al momento de hacer el merge con el dataframe PIB y pobl es mejor hacer un how='outer' debido que existen algunos paises que no reportan PIB, pero si tienen competiciones en los juegos, y la idea es tambien analizar solos los juegos sin PIB ni poblacion, por tal razon se hace un how='outer'"
   ]
  },
  {
   "cell_type": "code",
   "execution_count": 75,
   "metadata": {},
   "outputs": [],
   "source": [
    "dataframe_final=pd.merge(pd.DataFrame(mean_summer),pd.DataFrame(mean_winter),how='outer',left_index=True,right_index=True)\n",
    "dataframe_final=pd.merge(dataframe_final,pd.DataFrame(mean_total),how='outer',left_index=True,right_index=True)\n",
    "dataframe_final=pd.merge(dataframe_final,s_pobl,how='outer',left_index=True,right_index=True)\n",
    "dataframe_final=pd.merge(dataframe_final,s_PIB,how='outer',left_index=True,right_index=True)\n"
   ]
  },
  {
   "cell_type": "code",
   "execution_count": 76,
   "metadata": {},
   "outputs": [],
   "source": [
    "dataframe_final.rename(columns={'0_x': \"mean Summer\"}, inplace=True)\n",
    "dataframe_final.rename(columns={'0_y': \"mean Winter\"}, inplace=True)\n",
    "dataframe_final.rename(columns={0: \"total Games\"}, inplace=True)"
   ]
  },
  {
   "cell_type": "markdown",
   "metadata": {},
   "source": [
    "# ¿Cuál ha sido el país más ganador en los olímpicos?"
   ]
  },
  {
   "cell_type": "markdown",
   "metadata": {},
   "source": [
    "Existen muchos casos para dar respuesta a la pregunta, para nuestro caso se tendran en cuenta tres, que segun nuestra forma de ver son los mas interesantes"
   ]
  },
  {
   "cell_type": "markdown",
   "metadata": {},
   "source": [
    "## 1. Teniendo en cuenta solo los juegos de verano "
   ]
  },
  {
   "cell_type": "markdown",
   "metadata": {},
   "source": [
    "Teniendo en cuenta solo los juegos de verano, donde se hace uso del método de clasificación de Fibonacci mencionado anteriormente"
   ]
  },
  {
   "cell_type": "code",
   "execution_count": 82,
   "metadata": {},
   "outputs": [
    {
     "data": {
      "text/plain": [
       "Unified Team              2.142857\n",
       "Montenegro                1.000000\n",
       "United Team of Germany    0.644068\n",
       "Serbia and Montenegro     0.629630\n",
       "Serbia                    0.523810\n",
       "Name: mean Summer, dtype: float64"
      ]
     },
     "execution_count": 82,
     "metadata": {},
     "output_type": "execute_result"
    }
   ],
   "source": [
    "summer=dataframe_final.sort_values('mean Summer',ascending=False)   # Ordenando los paises con mayor cantidad de medallas\n",
    "summer['mean Summer'].head(n=5)   # ESTOS SON LOS 5 PAISES CON MAYORES PUNTUACION TENIENDO EN CUENTA EL MÉTODO DE CLASIFICACIÓN"
   ]
  },
  {
   "cell_type": "markdown",
   "metadata": {},
   "source": [
    "## 2. Teniendo en cuenta solo los juegos de invierno"
   ]
  },
  {
   "cell_type": "code",
   "execution_count": 84,
   "metadata": {},
   "outputs": [
    {
     "data": {
      "text/plain": [
       "Unified Team              2.043478\n",
       "United Team of Germany    0.719298\n",
       "Uzbekistan                0.500000\n",
       "Slovakia                  0.366667\n",
       "Russia                    0.352151\n",
       "Name: mean Winter, dtype: float64"
      ]
     },
     "execution_count": 84,
     "metadata": {},
     "output_type": "execute_result"
    }
   ],
   "source": [
    "winter=dataframe_final.sort_values('mean Winter',ascending=False)   # Ordenando los paises con mayor cantidad de medallas\n",
    "winter['mean Winter'].head(n=5) # ESTOS SON LOS 5 PAISES CON MAYORES PUNTUACION TENIENDO EN CUENTA EL MÉTODO DE CLASIFICACIÓN"
   ]
  },
  {
   "cell_type": "markdown",
   "metadata": {},
   "source": [
    "## 3. Teniendo en cuenta el PIB y la cantidad de población "
   ]
  },
  {
   "cell_type": "code",
   "execution_count": 87,
   "metadata": {},
   "outputs": [],
   "source": [
    "# Medallas obtenidad divididas entre el PIB y la poblacion\n",
    "PIB_pobl1=pd.DataFrame(dataframe_final['mean Summer']/dataframe_final['Poblacion media'] + dataframe_final['mean Summer']/dataframe_final['promedio PIB'])\n",
    "PIB_pobl2=pd.DataFrame(dataframe_final['mean Winter']/dataframe_final['Poblacion media'] + dataframe_final['mean Winter']/dataframe_final['promedio PIB'])"
   ]
  },
  {
   "cell_type": "code",
   "execution_count": 104,
   "metadata": {},
   "outputs": [
    {
     "data": {
      "text/plain": [
       "Liechtenstein    3.297501e-06\n",
       "Tonga            2.712399e-06\n",
       "Montenegro       1.724705e-06\n",
       "Bermuda          1.019207e-06\n",
       "Luxembourg       9.010476e-07\n",
       "dtype: float64"
      ]
     },
     "execution_count": 104,
     "metadata": {},
     "output_type": "execute_result"
    }
   ],
   "source": [
    "PIB_pobl=pd.merge(PIB_pobl1,PIB_pobl2,how='outer',left_index=True,right_index=True)\n",
    "PIB_pobl=PIB_pobl.loc[PIB_pobl.index].sum(axis=1)   \n",
    "PIB_pobl.sort_values(ascending=False).head(n=5)  # ESTOS SON LOS 5 PAISES CON MAYORES PUNTUACION TENIENDO EN CUENTA EL\n",
    "                                                 # EL PIB Y LA POBLACION"
   ]
  },
  {
   "cell_type": "markdown",
   "metadata": {},
   "source": [
    "# Como apunte, resulta interesante que segun los tre metodos planteados en ninguno en los 5 primeros puestos aparece EEUU y si se miran solo las cantidades de medalla de oro son los primeros "
   ]
  },
  {
   "cell_type": "code",
   "execution_count": 112,
   "metadata": {},
   "outputs": [
    {
     "data": {
      "text/plain": [
       "Totals           4809\n",
       "United States     976\n",
       "Soviet Union      395\n",
       "Great Britain     236\n",
       "France            202\n",
       "Name: Gold, dtype: int64"
      ]
     },
     "execution_count": 112,
     "metadata": {},
     "output_type": "execute_result"
    }
   ],
   "source": [
    "ol=ol.sort_values('Gold',ascending=False)\n",
    "ol['Gold'].head(n=5)"
   ]
  },
  {
   "cell_type": "code",
   "execution_count": null,
   "metadata": {},
   "outputs": [],
   "source": []
  }
 ],
 "metadata": {
  "kernelspec": {
   "display_name": "Python 3",
   "language": "python",
   "name": "python3"
  },
  "language_info": {
   "codemirror_mode": {
    "name": "ipython",
    "version": 3
   },
   "file_extension": ".py",
   "mimetype": "text/x-python",
   "name": "python",
   "nbconvert_exporter": "python",
   "pygments_lexer": "ipython3",
   "version": "3.6.4"
  }
 },
 "nbformat": 4,
 "nbformat_minor": 2
}
